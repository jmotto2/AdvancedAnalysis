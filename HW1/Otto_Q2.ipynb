{
 "cells": [
  {
   "cell_type": "code",
   "execution_count": 1,
   "metadata": {},
   "outputs": [],
   "source": [
    "import numpy as np"
   ]
  },
  {
   "cell_type": "code",
   "execution_count": 20,
   "metadata": {},
   "outputs": [],
   "source": [
    "def quad_eq(a,b,c):\n",
    "    \n",
    "    '''Solves the quadratic equation using both formulas. If inputs will give \n",
    "        complex roots, it tells the user and asks the user to try again.  \n",
    "    \n",
    "        Inputs: coefficients of quadratic equation a, b and c\n",
    "        Outputs: roots x1,x2 and roots x3,x4 of quadratic equation'''\n",
    "\n",
    "    if b**2 - 4*a*c < 0:\n",
    "        print('Inputs will give complex roots. Try again.')  #makes sure the inputs will give real roots\n",
    "    else:\n",
    "        x1 = (-b + np.sqrt(b**2 - 4*a*c))/(2*a)             #calculates roots with normal formula\n",
    "        x2 = (-b - np.sqrt(b**2 - 4*a*c))/(2*a)\n",
    "        print('The two roots are '+str(x1)+' and '+str(x2))\n",
    "        x3 = (2*c)/(-b + np.sqrt(b**2 - 4*a*c))             #calculates roots with the other formula\n",
    "        x4 = (2*c)/(-b - np.sqrt(b**2 - 4*a*c))\n",
    "        print('The two roots are '+str(x3)+' and '+str(x4))\n",
    "    \n",
    "def better_quadeq(a,b,c):\n",
    "    \n",
    "    '''Solves the quadratic equation exactly for all cases. If inputs will give \n",
    "        complex roots, it tells the user and asks the user to try again.\n",
    "    \n",
    "        Inputs: coefficients of quadratic equation a, b and c\n",
    "        Outputs: roots x1 and x2 of quadratic equation'''\n",
    "    \n",
    "    if b**2 - 4*a*c < 0:                                        #checks to make sure roots will be real\n",
    "        print('Inputs will give complex solutions. Try again.')\n",
    "    else:\n",
    "        sqroot = np.sqrt(b**2 - 4*a*c)                          #checks to see if -b + sqrt(b^2 + 4ac) is close\n",
    "        if -b + sqroot < .01:                                   #to 0, if it is it uses the formulas that work\n",
    "            x1 = (2*c)/(-b - np.sqrt(b**2 - 4*a*c))             #for that particular situation\n",
    "            x2 = (-b - np.sqrt(b**2 - 4*a*c))/(2*a)\n",
    "        else:\n",
    "            x1 = (-b + np.sqrt(b**2 - 4*a*c))/(2*a)\n",
    "            x2 = (2*c)/(-b + np.sqrt(b**2 - 4*a*c))\n",
    "        print('The two roots are '+str(x1)+' and '+str(x2))     #prints out the 2 calculated roots"
   ]
  },
  {
   "cell_type": "code",
   "execution_count": 21,
   "metadata": {},
   "outputs": [
    {
     "name": "stdout",
     "output_type": "stream",
     "text": [
      "The two roots are -9.999894245993346e-07 and -999999.999999\n",
      "The two roots are -1000010.5755125057 and -1.000000000001e-06\n",
      "The two roots are -1.000000000001e-06 and -999999.999999\n"
     ]
    }
   ],
   "source": [
    "a = .001\n",
    "b = 1000\n",
    "c = .001\n",
    "\n",
    "quad_eq(a,b,c)\n",
    "better_quadeq(a,b,c)"
   ]
  },
  {
   "cell_type": "code",
   "execution_count": null,
   "metadata": {},
   "outputs": [],
   "source": []
  },
  {
   "cell_type": "code",
   "execution_count": null,
   "metadata": {},
   "outputs": [],
   "source": []
  }
 ],
 "metadata": {
  "kernelspec": {
   "display_name": "Python 3",
   "language": "python",
   "name": "python3"
  },
  "language_info": {
   "codemirror_mode": {
    "name": "ipython",
    "version": 3
   },
   "file_extension": ".py",
   "mimetype": "text/x-python",
   "name": "python",
   "nbconvert_exporter": "python",
   "pygments_lexer": "ipython3",
   "version": "3.8.5"
  }
 },
 "nbformat": 4,
 "nbformat_minor": 4
}
