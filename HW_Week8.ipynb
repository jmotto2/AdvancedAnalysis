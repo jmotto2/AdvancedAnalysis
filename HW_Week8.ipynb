{
 "cells": [
  {
   "cell_type": "markdown",
   "metadata": {},
   "source": [
    "# PHYS 20323/60323 Homework Week 8\n",
    "\n",
    "FALL 2022\n"
   ]
  },
  {
   "cell_type": "markdown",
   "metadata": {},
   "source": [
    "### 1) Altitude of a satellite\n",
    "\n",
    "A satellite is to be launched into a circular orbit around the Earth so that it orbits the planet once every T seconds.\n",
    "\n",
    "The altitude h above the Earth’s surface that the satellite must have is:\n",
    "\n",
    "$$h = \\left( \\frac{G M T^2}{4\\pi^2} \\right)^{1/3} - R$$\n",
    "\n",
    "where $G = 6.67 \\times 10^{-11}$ m$^3$ kg$^{-1}$ s$^{-2}$\n",
    "is Newton's gravitational constant, $M = 5.97 \\times 10^{24}$ kg is the mass of the Earth, and $R = 6371$ km is its radius.\n",
    "\n",
    "#### Write a program that asks the user to enter the desired value of T and then calculates and prints out the correct altitude in meters.\n"
   ]
  },
  {
   "cell_type": "code",
   "execution_count": 1,
   "metadata": {},
   "outputs": [],
   "source": [
    "import numpy as np"
   ]
  },
  {
   "cell_type": "code",
   "execution_count": 2,
   "metadata": {},
   "outputs": [],
   "source": [
    "def satellite_height():\n",
    "    '''Takes in orbital period and prints the height of the satellite in meters and kilometers'''\n",
    "    minutes = float(input('What is the orbital period in minutes?: '))\n",
    "    T = minutes*60\n",
    "    G = 6.67e-11\n",
    "    M = 5.97e24\n",
    "    R = 6371000\n",
    "    h = ((G*M*T**2)/(4*np.pi**2))**(1/3) - R\n",
    "    print('The satellite will orbit at a height of '+str(round(h,2)) +' meters or '+str(round(h/1000,2))+' km.')"
   ]
  },
  {
   "cell_type": "markdown",
   "metadata": {},
   "source": [
    "Use your program to calculate the altitudes of satellites that orbit the Earth once\n",
    "a day (so-called “geosynchronous” orbit), once every 90 minutes, and once every\n",
    "45 minutes. What do you conclude from the last of these calculations?\n",
    "\n",
    "\n",
    "\n"
   ]
  },
  {
   "cell_type": "code",
   "execution_count": 3,
   "metadata": {},
   "outputs": [
    {
     "name": "stdout",
     "output_type": "stream",
     "text": [
      "What is the orbital period in minutes?: 1440\n",
      "The satellite will orbit at a height of 35855910.18 meters or 35855.91 km.\n"
     ]
    }
   ],
   "source": [
    "satellite_height()"
   ]
  },
  {
   "cell_type": "code",
   "execution_count": 4,
   "metadata": {},
   "outputs": [
    {
     "name": "stdout",
     "output_type": "stream",
     "text": [
      "What is the orbital period in minutes?: 90\n",
      "The satellite will orbit at a height of 279321.63 meters or 279.32 km.\n"
     ]
    }
   ],
   "source": [
    "satellite_height()"
   ]
  },
  {
   "cell_type": "code",
   "execution_count": 5,
   "metadata": {},
   "outputs": [
    {
     "name": "stdout",
     "output_type": "stream",
     "text": [
      "What is the orbital period in minutes?: 45\n",
      "The satellite will orbit at a height of -2181559.9 meters or -2181.56 km.\n"
     ]
    }
   ],
   "source": [
    "satellite_height()\n",
    "\n",
    "#An orbital period of 45 minutes is impossible because it would have to orbit below the Earth's surface"
   ]
  },
  {
   "cell_type": "markdown",
   "metadata": {},
   "source": [
    "Technically a geosynchronous satellite is one that orbits the Earth once persidereal\n",
    "day, which is 23.93 hours, not 24 hours. Why is this? And how much difference\n",
    "will it make to the altitude of the satellite?"
   ]
  },
  {
   "cell_type": "code",
   "execution_count": 6,
   "metadata": {},
   "outputs": [
    {
     "name": "stdout",
     "output_type": "stream",
     "text": [
      "What is the orbital period in minutes?: 1435.8\n",
      "The satellite will orbit at a height of 35773762.33 meters or 35773.76 km.\n"
     ]
    }
   ],
   "source": [
    "satellite_height()"
   ]
  },
  {
   "cell_type": "code",
   "execution_count": 7,
   "metadata": {},
   "outputs": [
    {
     "data": {
      "text/plain": [
       "82.15000000000146"
      ]
     },
     "execution_count": 7,
     "metadata": {},
     "output_type": "execute_result"
    }
   ],
   "source": [
    "35855.91-35773.76\n",
    "#The altitude is about 82 km lower for a sidereal day orbital period"
   ]
  },
  {
   "cell_type": "markdown",
   "metadata": {},
   "source": [
    "### 2) Special Relativity\n",
    "\n",
    "A spaceship travels from Earth in a straight line at a (relativistic)\n",
    "speed $v$ to another planet $x$ light years away. Write a program to ask\n",
    "the user for the value of $x$ and the speed $v$ as a fraction of the speed\n",
    "of light, then print out the time in years that the spaceship takes to\n",
    "reach its destination (a) in the rest frame of an observer on Earth\n",
    "and (b) as perceived by a passenger on board the ship.\n",
    "\n",
    "$$x' = \\gamma (x - vt)$$\n",
    "\n",
    "$$t' = \\gamma \\left(t - \\frac{v x}{c^2}\\right)$$\n",
    "\n",
    "$$\\gamma = \\frac{1}{\\sqrt{1 - \\frac{v^2}{c^2}}}$$\n"
   ]
  },
  {
   "cell_type": "code",
   "execution_count": 22,
   "metadata": {},
   "outputs": [],
   "source": [
    "def relativity():\n",
    "    v = float(input('What is the velocity as a fraction of the speed of light? '))\n",
    "    xly = float(input('How far are you traveling in light years? '))\n",
    "    gamma = 1/(np.sqrt(1-v**2))\n",
    "    t = xly/v\n",
    "    xprime = xly/gamma\n",
    "    tprime = xprime/v\n",
    "    print('Observing from Earth it took '+str(round(t,2))+' years.')\n",
    "    print('Passengers on board the ship percieved to take '+str(round(tprime,2))+' years.')"
   ]
  },
  {
   "cell_type": "markdown",
   "metadata": {},
   "source": [
    "#### Use your program to calculate the answers for a planet 10 light years away with $v = 0.90c$,  $v = 0.98c$, $v = 0.999c$."
   ]
  },
  {
   "cell_type": "code",
   "execution_count": 23,
   "metadata": {},
   "outputs": [
    {
     "name": "stdout",
     "output_type": "stream",
     "text": [
      "What is the velocity as a fraction of the speed of light? .9\n",
      "How far are you traveling in light years? 10\n",
      "Observing from Earth it took 11.11 years.\n",
      "Passengers on board the ship percieved to take 4.84 years.\n"
     ]
    }
   ],
   "source": [
    "relativity()"
   ]
  },
  {
   "cell_type": "code",
   "execution_count": 24,
   "metadata": {},
   "outputs": [
    {
     "name": "stdout",
     "output_type": "stream",
     "text": [
      "What is the velocity as a fraction of the speed of light? .98\n",
      "How far are you traveling in light years? 10\n",
      "Observing from Earth it took 10.2 years.\n",
      "Passengers on board the ship percieved to take 2.03 years.\n"
     ]
    }
   ],
   "source": [
    "relativity()"
   ]
  },
  {
   "cell_type": "code",
   "execution_count": 26,
   "metadata": {},
   "outputs": [
    {
     "name": "stdout",
     "output_type": "stream",
     "text": [
      "What is the velocity as a fraction of the speed of light? .999\n",
      "How far are you traveling in light years? 10\n",
      "Observing from Earth it took 10.01 years.\n",
      "Passengers on board the ship percieved to take 0.45 years.\n"
     ]
    }
   ],
   "source": [
    "relativity()"
   ]
  },
  {
   "cell_type": "markdown",
   "metadata": {},
   "source": [
    "### 3) The quadratic equation\n",
    "\n",
    " Write a program that takes as input three numbers, $a$, $b$, and $c$, and prints out the two solutions to the quadratic equation $ax^2 + bx + c = 0$ using the standard\n",
    "formula:\n",
    "\n",
    "$$x = \\frac{-b \\pm \\sqrt{b^2 - 4ac}}{2a}$$\n",
    "\n",
    "Use your program to compute the solutions of $0.001x^2 + 1000x + 0.001 = 0$."
   ]
  },
  {
   "cell_type": "code",
   "execution_count": 10,
   "metadata": {},
   "outputs": [],
   "source": [
    "def quad_eq(a,b,c):\n",
    "    x1 = (-b + np.sqrt(b**2 - 4*a*c))/(2*a)\n",
    "    x2 = (-b - np.sqrt(b**2 - 4*a*c))/(2*a)\n",
    "    print('The two roots are '+str(x1)+' and '+str(x2))\n",
    "    x3 = (2*c)/(-b + np.sqrt(b**2 - 4*a*c))\n",
    "    x4 = (2*c)/(-b - np.sqrt(b**2 - 4*a*c))\n",
    "    print('The two roots are '+str(x3)+' and '+str(x4))"
   ]
  },
  {
   "cell_type": "markdown",
   "metadata": {},
   "source": [
    "There is another way to write the solutions to a quadratic equation. Multiplying top and bottom of the solution above by $-b \\mp \\sqrt{b^2 - 4ac}$, show that the solutions\n",
    "can also be written as:\n",
    "\n",
    "$$x = \\frac{2c}{-b \\mp \\sqrt{b^2 - 4ac}}$$\n",
    "\n",
    "Add further lines to your program to print these values in addition to the earlier ones and again use the program to solve $0.001x^2 + 1000x + 0.001 = 0$. What do you see? How do you explain it?"
   ]
  },
  {
   "cell_type": "code",
   "execution_count": 11,
   "metadata": {},
   "outputs": [
    {
     "name": "stdout",
     "output_type": "stream",
     "text": [
      "The two roots are -9.999894245993346e-07 and -999999.999999\n",
      "The two roots are -1000010.5755125057 and -1.000000000001e-06\n"
     ]
    }
   ],
   "source": [
    "quad_eq(.001,1000,.001)\n",
    "#the answers are off when the square root is really close to b\n",
    "#it doesn't like working with really small numbers"
   ]
  },
  {
   "cell_type": "markdown",
   "metadata": {},
   "source": [
    "Using what you have learned, write a new program that calculates both roots of a quadratic equation accurately in all cases."
   ]
  },
  {
   "cell_type": "code",
   "execution_count": 27,
   "metadata": {},
   "outputs": [],
   "source": [
    "def better_quadeq(a,b,c):\n",
    "    sqroot = np.sqrt(b**2 - 4*a*c)\n",
    "    if -b + sqroot < .01:\n",
    "        x1 = (2*c)/(-b - np.sqrt(b**2 - 4*a*c))\n",
    "        x2 = (-b - np.sqrt(b**2 - 4*a*c))/(2*a)\n",
    "    else:\n",
    "        x1 = (-b + np.sqrt(b**2 - 4*a*c))/(2*a)\n",
    "        x2 = (-b - np.sqrt(b**2 - 4*a*c))/(2*a)\n",
    "    print('The two roots are '+str(x1)+' and '+str(x2))"
   ]
  },
  {
   "cell_type": "code",
   "execution_count": 28,
   "metadata": {},
   "outputs": [
    {
     "name": "stdout",
     "output_type": "stream",
     "text": [
      "The two roots are -1.000000000001e-06 and -999999.999999\n"
     ]
    }
   ],
   "source": [
    "better_quadeq(.001,1000,.001)"
   ]
  },
  {
   "cell_type": "code",
   "execution_count": 29,
   "metadata": {},
   "outputs": [
    {
     "name": "stdout",
     "output_type": "stream",
     "text": [
      "The two roots are -1e-08 and -100000000.0\n"
     ]
    }
   ],
   "source": [
    "better_quadeq(.0001,10000,.0001)"
   ]
  },
  {
   "cell_type": "code",
   "execution_count": 30,
   "metadata": {},
   "outputs": [
    {
     "name": "stdout",
     "output_type": "stream",
     "text": [
      "The two roots are 2.0 and 1.0\n"
     ]
    }
   ],
   "source": [
    "better_quadeq(1,-3,2)"
   ]
  },
  {
   "cell_type": "code",
   "execution_count": null,
   "metadata": {},
   "outputs": [],
   "source": []
  }
 ],
 "metadata": {
  "kernelspec": {
   "display_name": "Python 3",
   "language": "python",
   "name": "python3"
  },
  "language_info": {
   "codemirror_mode": {
    "name": "ipython",
    "version": 3
   },
   "file_extension": ".py",
   "mimetype": "text/x-python",
   "name": "python",
   "nbconvert_exporter": "python",
   "pygments_lexer": "ipython3",
   "version": "3.8.5"
  }
 },
 "nbformat": 4,
 "nbformat_minor": 4
}
